{
 "cells": [
  {
   "cell_type": "markdown",
   "metadata": {},
   "source": [
    "### Librerias adicionales"
   ]
  },
  {
   "cell_type": "code",
   "execution_count": null,
   "metadata": {},
   "outputs": [],
   "source": [
    "import pandas as pd\n",
    "import seaborn as sbn\n",
    "import matplotlib.pyplot as plt  # Corrige la importación aquí\n",
    "\n",
    "# Cargar el conjunto de datos titanic de seaborn\n",
    "df = sbn.load_dataset('titanic')\n",
    "\n",
    "# Mostrar información sobre el DataFrame\n",
    "print(df.info())\n",
    "\n",
    "# Aquí puedes agregar cualquier otra visualización o análisis que necesites\n",
    "df.head()\n"
   ]
  }
 ],
 "metadata": {
  "kernelspec": {
   "display_name": "Python (bootcamp_mitic)",
   "language": "python",
   "name": "bootcamp_mitic"
  },
  "language_info": {
   "name": "python",
   "version": "3.11.10"
  }
 },
 "nbformat": 4,
 "nbformat_minor": 2
}
