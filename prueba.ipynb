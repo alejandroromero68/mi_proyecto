{
 "cells": [
  {
   "cell_type": "code",
   "execution_count": 5,
   "metadata": {},
   "outputs": [
    {
     "name": "stdout",
     "output_type": "stream",
     "text": [
      "12\n"
     ]
    }
   ],
   "source": [
    "a=12\n",
    "print(a)"
   ]
  },
  {
   "cell_type": "markdown",
   "metadata": {},
   "source": [
    "#Ejercicio 2"
   ]
  },
  {
   "cell_type": "code",
   "execution_count": 1,
   "metadata": {},
   "outputs": [
    {
     "name": "stdout",
     "output_type": "stream",
     "text": [
      "135\n"
     ]
    }
   ],
   "source": [
    "b=123\n",
    "c=12\n",
    "print(b+c)"
   ]
  },
  {
   "cell_type": "markdown",
   "metadata": {},
   "source": [
    "Pandas"
   ]
  },
  {
   "cell_type": "code",
   "execution_count": 2,
   "metadata": {},
   "outputs": [
    {
     "name": "stdout",
     "output_type": "stream",
     "text": [
      "DataFrame original:\n",
      "   Producto  Cantidad  Precio Unitario       Fecha  Total Ventas  En Oferta\n",
      "0  Camiseta        20             15.0  2024-10-01         300.0       True\n",
      "1  Pantalón        10             30.0  2024-10-02         300.0      False\n",
      "2   Zapatos         5             50.0  2024-10-03         250.0      False\n",
      "3  Chaqueta         8             75.0  2024-10-04         600.0      False\n",
      "4  Sombrero        12             10.0  2024-10-05         120.0       True\n",
      "\n",
      "Productos filtrados (ventas > 500):\n",
      "   Producto  Cantidad  Precio Unitario       Fecha  Total Ventas\n",
      "3  Chaqueta         8             75.0  2024-10-04         600.0\n",
      "\n",
      "Total de ventas por fecha:\n",
      "        Fecha  Total Ventas\n",
      "0  2024-10-01         300.0\n",
      "1  2024-10-02         300.0\n",
      "2  2024-10-03         250.0\n",
      "3  2024-10-04         600.0\n",
      "4  2024-10-05         120.0\n"
     ]
    }
   ],
   "source": [
    "import pandas as pd\n",
    "\n",
    "# Crear el DataFrame\n",
    "data = {\n",
    "    'Producto': ['Camiseta', 'Pantalón', 'Zapatos', 'Chaqueta', 'Sombrero'],\n",
    "    'Cantidad': [20, 10, 5, 8, 12],\n",
    "    'Precio Unitario': [15.00, 30.00, 50.00, 75.00, 10.00],\n",
    "    'Fecha': ['2024-10-01', '2024-10-02', '2024-10-03', '2024-10-04', '2024-10-05']\n",
    "}\n",
    "\n",
    "df = pd.DataFrame(data)\n",
    "\n",
    "# Calcular el total de ventas por producto\n",
    "df['Total Ventas'] = df['Cantidad'] * df['Precio Unitario']\n",
    "\n",
    "# Filtrar productos con ventas superiores a 500\n",
    "productos_filtrados = df[df['Total Ventas'] > 500]\n",
    "\n",
    "# Agrupar por fecha y calcular el total de ventas por día\n",
    "ventas_por_fecha = df.groupby('Fecha')['Total Ventas'].sum().reset_index()\n",
    "\n",
    "# Agregar columna de oferta\n",
    "df['En Oferta'] = df['Precio Unitario'] < 20\n",
    "\n",
    "# Mostrar resultados\n",
    "print(\"DataFrame original:\")\n",
    "print(df)\n",
    "print(\"\\nProductos filtrados (ventas > 500):\")\n",
    "print(productos_filtrados)\n",
    "print(\"\\nTotal de ventas por fecha:\")\n",
    "print(ventas_por_fecha)\n"
   ]
  },
  {
   "cell_type": "markdown",
   "metadata": {},
   "source": [
    "Leer archivo excel"
   ]
  },
  {
   "cell_type": "code",
   "execution_count": 3,
   "metadata": {},
   "outputs": [
    {
     "name": "stdout",
     "output_type": "stream",
     "text": [
      "   nro     nombre  edad        ciudad\n",
      "0    1  Alejandro    56   Villa Elisa\n",
      "1    2    Roberto    25      Asuncion\n",
      "2    3      Luisa    46   Encarnacion\n",
      "3    4        Luz    19   Encarnacion\n",
      "4    5   Ezequiel    17  Cnel. Bogado\n"
     ]
    }
   ],
   "source": [
    "import pandas as pd\n",
    "\n",
    "# Leer el archivo Excel\n",
    "df = pd.read_excel(\"c:/varios/datosBootcamp/empleados.xlsx\")\n",
    "\n",
    "# Mostrar las primeras 5 filas del archivo Excel\n",
    "print(df.head())"
   ]
  },
  {
   "cell_type": "markdown",
   "metadata": {},
   "source": [
    "Leer archivo de texto"
   ]
  },
  {
   "cell_type": "code",
   "execution_count": 11,
   "metadata": {},
   "outputs": [
    {
     "name": "stdout",
     "output_type": "stream",
     "text": [
      "nro\tnombre\tedad\tciudad\n",
      "1\tAlejandro\t56\tVilla Elisa\n",
      "2\tRoberto\t25\tAsuncion\n",
      "3\tLuisa\t46\tEncarnacion\n",
      "4\tLuz\t19\tEncarnacion\n",
      "5\tEzequiel\t17\tCnel. Bogado\n",
      "6\tDiana\t24\tAsuncion\n"
     ]
    }
   ],
   "source": [
    "# Abre el archivo y lee todas las líneas en una lista\n",
    "#with open('c:/varios/datosBootcamp/empleados.csv', 'r') as archivo:\n",
    "#    lineas = archivo.readlines()  # Devuelve una lista con todas las líneas\n",
    "#    print(\"\\n\",lineas)\n",
    "\n",
    "with open('c:/varios/datosBootcamp/empleados.csv', 'r') as archivo:\n",
    "    for linea in archivo:\n",
    "#        print(linea.strip())  # Imprime cada línea sin saltos de línea adicionales\n",
    "\n",
    "        campos = linea.strip().split(';')\n",
    "        \n",
    "        # Volver a imprimir los campos separados por tabuladores\n",
    "        print('\\t'.join(campos))"
   ]
  },
  {
   "cell_type": "markdown",
   "metadata": {},
   "source": [
    "Datos de glosarios"
   ]
  },
  {
   "cell_type": "code",
   "execution_count": 13,
   "metadata": {},
   "outputs": [
    {
     "name": "stdout",
     "output_type": "stream",
     "text": [
      "   Id codigo_glosario  codigo_categoria                   categoria  \\\n",
      "0   1           1.1.1                 1  Otros gastos de adecuación   \n",
      "1   2          1.10.1                10         Reemplazo de techos   \n",
      "2   3          1.10.2                10         Reemplazo de techos   \n",
      "3   4          1.10.3                10         Reemplazo de techos   \n",
      "4   5          1.10.4                10         Reemplazo de techos   \n",
      "\n",
      "   codigo_descripcion                                        descripcion  \\\n",
      "0                   1  Vallado perimetral protección de obras de….( m...   \n",
      "1                   1  De tejas y tejuelones, prensados, con tirantes...   \n",
      "2                   2  De tejas y tejuelas prensadas, con tirantes de...   \n",
      "3                   3  De tejas y tejuelones, prensados, con tirante ...   \n",
      "4                   4     De chapa con estruct. Metálica, chapa doblada.   \n",
      "\n",
      "  unidad_medida  precio_unitario  \n",
      "0            m²           180000  \n",
      "1            m²           545750  \n",
      "2            m²           582750  \n",
      "3            m²           571188  \n",
      "4            m²           562400  \n"
     ]
    }
   ],
   "source": [
    "import pandas as pd\n",
    "\n",
    "# Leer el archivo Excel\n",
    "df = pd.read_excel(\"c:/varios/datosBootcamp/glosario_informe_15_07_2024_v2.xlsx\")\n",
    "\n",
    "# Mostrar las primeras 5 filas del archivo Excel\n",
    "print(df.head())"
   ]
  }
 ],
 "metadata": {
  "kernelspec": {
   "display_name": "Python 3",
   "language": "python",
   "name": "python3"
  },
  "language_info": {
   "codemirror_mode": {
    "name": "ipython",
    "version": 3
   },
   "file_extension": ".py",
   "mimetype": "text/x-python",
   "name": "python",
   "nbconvert_exporter": "python",
   "pygments_lexer": "ipython3",
   "version": "3.12.7"
  }
 },
 "nbformat": 4,
 "nbformat_minor": 2
}
