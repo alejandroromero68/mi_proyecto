{
 "cells": [
  {
   "cell_type": "markdown",
   "metadata": {},
   "source": [
    "###Pull, Push, Commit, PR, Branch\n",
    "**GIT Pull**\n",
    "\n",
    "El comando git pull se utiliza para actualizar el repositorio local con los últimos cambios del repositorio remoto. Este comando es una combinación de git fetch y git merge.\n",
    "\n",
    "Ejemplo Básico: Actualizar la rama actual con los últimos cambios del repositorio remoto."
   ]
  }
 ],
 "metadata": {
  "language_info": {
   "name": "python"
  }
 },
 "nbformat": 4,
 "nbformat_minor": 2
}
